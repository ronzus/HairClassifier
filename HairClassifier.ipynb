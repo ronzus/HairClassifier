{
  "nbformat": 4,
  "nbformat_minor": 0,
  "metadata": {
    "colab": {
      "provenance": [],
      "gpuType": "T4",
      "authorship_tag": "ABX9TyOBRNzfiyTnHshiVi38of9j",
      "include_colab_link": true
    },
    "kernelspec": {
      "name": "python3",
      "display_name": "Python 3"
    },
    "language_info": {
      "name": "python"
    },
    "accelerator": "GPU",
    "widgets": {
      "application/vnd.jupyter.widget-state+json": {
        "39a619b0bd884c2e8e3c35c2eef1c086": {
          "model_module": "@jupyter-widgets/controls",
          "model_name": "VBoxModel",
          "model_module_version": "1.5.0",
          "state": {
            "_dom_classes": [],
            "_model_module": "@jupyter-widgets/controls",
            "_model_module_version": "1.5.0",
            "_model_name": "VBoxModel",
            "_view_count": null,
            "_view_module": "@jupyter-widgets/controls",
            "_view_module_version": "1.5.0",
            "_view_name": "VBoxView",
            "box_style": "",
            "children": [
              "IPY_MODEL_3914ff1e22f84d708bccfa4956822a92",
              "IPY_MODEL_54196ca0a6cf4af6be1006dd61b9a5f4",
              "IPY_MODEL_29bf848f6d3a4a73be739994dfa86638",
              "IPY_MODEL_263e4cd689084ce5b9826a3106010d79",
              "IPY_MODEL_0a94891a505541489e2e80d36bcc3b0e"
            ],
            "layout": "IPY_MODEL_bdcd0b94f72a4db9a70101ccc224b2e5"
          }
        },
        "3914ff1e22f84d708bccfa4956822a92": {
          "model_module": "@jupyter-widgets/controls",
          "model_name": "LabelModel",
          "model_module_version": "1.5.0",
          "state": {
            "_dom_classes": [],
            "_model_module": "@jupyter-widgets/controls",
            "_model_module_version": "1.5.0",
            "_model_name": "LabelModel",
            "_view_count": null,
            "_view_module": "@jupyter-widgets/controls",
            "_view_module_version": "1.5.0",
            "_view_name": "LabelView",
            "description": "",
            "description_tooltip": null,
            "layout": "IPY_MODEL_47fb00e609aa48ab9e38ca9aadefcfab",
            "placeholder": "​",
            "style": "IPY_MODEL_4b2e109b737448dbbda094a7562e1000",
            "value": "Select your hair!"
          }
        },
        "54196ca0a6cf4af6be1006dd61b9a5f4": {
          "model_module": "@jupyter-widgets/controls",
          "model_name": "FileUploadModel",
          "model_module_version": "1.5.0",
          "state": {
            "_counter": 1,
            "_dom_classes": [],
            "_model_module": "@jupyter-widgets/controls",
            "_model_module_version": "1.5.0",
            "_model_name": "FileUploadModel",
            "_view_count": null,
            "_view_module": "@jupyter-widgets/controls",
            "_view_module_version": "1.5.0",
            "_view_name": "FileUploadView",
            "accept": "",
            "button_style": "",
            "data": [
              null
            ],
            "description": "Upload",
            "description_tooltip": null,
            "disabled": false,
            "error": "",
            "icon": "upload",
            "layout": "IPY_MODEL_f5f28d70b7644ec7ac3c9bdb8a3dc313",
            "metadata": [
              {
                "name": "Screenshot 2023-10-23 133916.png",
                "type": "image/png",
                "size": 521658,
                "lastModified": 1698057582432
              }
            ],
            "multiple": false,
            "style": "IPY_MODEL_7c849955e7894c93a47ed98659202f13"
          }
        },
        "29bf848f6d3a4a73be739994dfa86638": {
          "model_module": "@jupyter-widgets/controls",
          "model_name": "ButtonModel",
          "model_module_version": "1.5.0",
          "state": {
            "_dom_classes": [],
            "_model_module": "@jupyter-widgets/controls",
            "_model_module_version": "1.5.0",
            "_model_name": "ButtonModel",
            "_view_count": null,
            "_view_module": "@jupyter-widgets/controls",
            "_view_module_version": "1.5.0",
            "_view_name": "ButtonView",
            "button_style": "",
            "description": "Classify",
            "disabled": false,
            "icon": "",
            "layout": "IPY_MODEL_85f0e66d2d934990b389f8dcf8382ed3",
            "style": "IPY_MODEL_53406e8695a74b139d5cbf8ae2eec620",
            "tooltip": ""
          }
        },
        "263e4cd689084ce5b9826a3106010d79": {
          "model_module": "@jupyter-widgets/output",
          "model_name": "OutputModel",
          "model_module_version": "1.0.0",
          "state": {
            "_dom_classes": [],
            "_model_module": "@jupyter-widgets/output",
            "_model_module_version": "1.0.0",
            "_model_name": "OutputModel",
            "_view_count": null,
            "_view_module": "@jupyter-widgets/output",
            "_view_module_version": "1.0.0",
            "_view_name": "OutputView",
            "layout": "IPY_MODEL_fb5b61377ea246aead13b079ac97f077",
            "msg_id": "",
            "outputs": [
              {
                "output_type": "display_data",
                "data": {
                  "text/plain": "<PIL.Image.Image image mode=RGB size=128x128>",
                  "image/png": "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\n"
                },
                "metadata": {}
              }
            ]
          }
        },
        "0a94891a505541489e2e80d36bcc3b0e": {
          "model_module": "@jupyter-widgets/controls",
          "model_name": "LabelModel",
          "model_module_version": "1.5.0",
          "state": {
            "_dom_classes": [],
            "_model_module": "@jupyter-widgets/controls",
            "_model_module_version": "1.5.0",
            "_model_name": "LabelModel",
            "_view_count": null,
            "_view_module": "@jupyter-widgets/controls",
            "_view_module_version": "1.5.0",
            "_view_name": "LabelView",
            "description": "",
            "description_tooltip": null,
            "layout": "IPY_MODEL_37938d5dba5e48d9a01b26359e40593c",
            "placeholder": "​",
            "style": "IPY_MODEL_7f5b8762c8464bc8aa3872636601f50a",
            "value": "Prediction: straight; Probability: 0.9650"
          }
        },
        "bdcd0b94f72a4db9a70101ccc224b2e5": {
          "model_module": "@jupyter-widgets/base",
          "model_name": "LayoutModel",
          "model_module_version": "1.2.0",
          "state": {
            "_model_module": "@jupyter-widgets/base",
            "_model_module_version": "1.2.0",
            "_model_name": "LayoutModel",
            "_view_count": null,
            "_view_module": "@jupyter-widgets/base",
            "_view_module_version": "1.2.0",
            "_view_name": "LayoutView",
            "align_content": null,
            "align_items": null,
            "align_self": null,
            "border": null,
            "bottom": null,
            "display": null,
            "flex": null,
            "flex_flow": null,
            "grid_area": null,
            "grid_auto_columns": null,
            "grid_auto_flow": null,
            "grid_auto_rows": null,
            "grid_column": null,
            "grid_gap": null,
            "grid_row": null,
            "grid_template_areas": null,
            "grid_template_columns": null,
            "grid_template_rows": null,
            "height": null,
            "justify_content": null,
            "justify_items": null,
            "left": null,
            "margin": null,
            "max_height": null,
            "max_width": null,
            "min_height": null,
            "min_width": null,
            "object_fit": null,
            "object_position": null,
            "order": null,
            "overflow": null,
            "overflow_x": null,
            "overflow_y": null,
            "padding": null,
            "right": null,
            "top": null,
            "visibility": null,
            "width": null
          }
        },
        "47fb00e609aa48ab9e38ca9aadefcfab": {
          "model_module": "@jupyter-widgets/base",
          "model_name": "LayoutModel",
          "model_module_version": "1.2.0",
          "state": {
            "_model_module": "@jupyter-widgets/base",
            "_model_module_version": "1.2.0",
            "_model_name": "LayoutModel",
            "_view_count": null,
            "_view_module": "@jupyter-widgets/base",
            "_view_module_version": "1.2.0",
            "_view_name": "LayoutView",
            "align_content": null,
            "align_items": null,
            "align_self": null,
            "border": null,
            "bottom": null,
            "display": null,
            "flex": null,
            "flex_flow": null,
            "grid_area": null,
            "grid_auto_columns": null,
            "grid_auto_flow": null,
            "grid_auto_rows": null,
            "grid_column": null,
            "grid_gap": null,
            "grid_row": null,
            "grid_template_areas": null,
            "grid_template_columns": null,
            "grid_template_rows": null,
            "height": null,
            "justify_content": null,
            "justify_items": null,
            "left": null,
            "margin": null,
            "max_height": null,
            "max_width": null,
            "min_height": null,
            "min_width": null,
            "object_fit": null,
            "object_position": null,
            "order": null,
            "overflow": null,
            "overflow_x": null,
            "overflow_y": null,
            "padding": null,
            "right": null,
            "top": null,
            "visibility": null,
            "width": null
          }
        },
        "4b2e109b737448dbbda094a7562e1000": {
          "model_module": "@jupyter-widgets/controls",
          "model_name": "DescriptionStyleModel",
          "model_module_version": "1.5.0",
          "state": {
            "_model_module": "@jupyter-widgets/controls",
            "_model_module_version": "1.5.0",
            "_model_name": "DescriptionStyleModel",
            "_view_count": null,
            "_view_module": "@jupyter-widgets/base",
            "_view_module_version": "1.2.0",
            "_view_name": "StyleView",
            "description_width": ""
          }
        },
        "f5f28d70b7644ec7ac3c9bdb8a3dc313": {
          "model_module": "@jupyter-widgets/base",
          "model_name": "LayoutModel",
          "model_module_version": "1.2.0",
          "state": {
            "_model_module": "@jupyter-widgets/base",
            "_model_module_version": "1.2.0",
            "_model_name": "LayoutModel",
            "_view_count": null,
            "_view_module": "@jupyter-widgets/base",
            "_view_module_version": "1.2.0",
            "_view_name": "LayoutView",
            "align_content": null,
            "align_items": null,
            "align_self": null,
            "border": null,
            "bottom": null,
            "display": null,
            "flex": null,
            "flex_flow": null,
            "grid_area": null,
            "grid_auto_columns": null,
            "grid_auto_flow": null,
            "grid_auto_rows": null,
            "grid_column": null,
            "grid_gap": null,
            "grid_row": null,
            "grid_template_areas": null,
            "grid_template_columns": null,
            "grid_template_rows": null,
            "height": null,
            "justify_content": null,
            "justify_items": null,
            "left": null,
            "margin": null,
            "max_height": null,
            "max_width": null,
            "min_height": null,
            "min_width": null,
            "object_fit": null,
            "object_position": null,
            "order": null,
            "overflow": null,
            "overflow_x": null,
            "overflow_y": null,
            "padding": null,
            "right": null,
            "top": null,
            "visibility": null,
            "width": null
          }
        },
        "7c849955e7894c93a47ed98659202f13": {
          "model_module": "@jupyter-widgets/controls",
          "model_name": "ButtonStyleModel",
          "model_module_version": "1.5.0",
          "state": {
            "_model_module": "@jupyter-widgets/controls",
            "_model_module_version": "1.5.0",
            "_model_name": "ButtonStyleModel",
            "_view_count": null,
            "_view_module": "@jupyter-widgets/base",
            "_view_module_version": "1.2.0",
            "_view_name": "StyleView",
            "button_color": null,
            "font_weight": ""
          }
        },
        "85f0e66d2d934990b389f8dcf8382ed3": {
          "model_module": "@jupyter-widgets/base",
          "model_name": "LayoutModel",
          "model_module_version": "1.2.0",
          "state": {
            "_model_module": "@jupyter-widgets/base",
            "_model_module_version": "1.2.0",
            "_model_name": "LayoutModel",
            "_view_count": null,
            "_view_module": "@jupyter-widgets/base",
            "_view_module_version": "1.2.0",
            "_view_name": "LayoutView",
            "align_content": null,
            "align_items": null,
            "align_self": null,
            "border": null,
            "bottom": null,
            "display": null,
            "flex": null,
            "flex_flow": null,
            "grid_area": null,
            "grid_auto_columns": null,
            "grid_auto_flow": null,
            "grid_auto_rows": null,
            "grid_column": null,
            "grid_gap": null,
            "grid_row": null,
            "grid_template_areas": null,
            "grid_template_columns": null,
            "grid_template_rows": null,
            "height": null,
            "justify_content": null,
            "justify_items": null,
            "left": null,
            "margin": null,
            "max_height": null,
            "max_width": null,
            "min_height": null,
            "min_width": null,
            "object_fit": null,
            "object_position": null,
            "order": null,
            "overflow": null,
            "overflow_x": null,
            "overflow_y": null,
            "padding": null,
            "right": null,
            "top": null,
            "visibility": null,
            "width": null
          }
        },
        "53406e8695a74b139d5cbf8ae2eec620": {
          "model_module": "@jupyter-widgets/controls",
          "model_name": "ButtonStyleModel",
          "model_module_version": "1.5.0",
          "state": {
            "_model_module": "@jupyter-widgets/controls",
            "_model_module_version": "1.5.0",
            "_model_name": "ButtonStyleModel",
            "_view_count": null,
            "_view_module": "@jupyter-widgets/base",
            "_view_module_version": "1.2.0",
            "_view_name": "StyleView",
            "button_color": null,
            "font_weight": ""
          }
        },
        "37938d5dba5e48d9a01b26359e40593c": {
          "model_module": "@jupyter-widgets/base",
          "model_name": "LayoutModel",
          "model_module_version": "1.2.0",
          "state": {
            "_model_module": "@jupyter-widgets/base",
            "_model_module_version": "1.2.0",
            "_model_name": "LayoutModel",
            "_view_count": null,
            "_view_module": "@jupyter-widgets/base",
            "_view_module_version": "1.2.0",
            "_view_name": "LayoutView",
            "align_content": null,
            "align_items": null,
            "align_self": null,
            "border": null,
            "bottom": null,
            "display": null,
            "flex": null,
            "flex_flow": null,
            "grid_area": null,
            "grid_auto_columns": null,
            "grid_auto_flow": null,
            "grid_auto_rows": null,
            "grid_column": null,
            "grid_gap": null,
            "grid_row": null,
            "grid_template_areas": null,
            "grid_template_columns": null,
            "grid_template_rows": null,
            "height": null,
            "justify_content": null,
            "justify_items": null,
            "left": null,
            "margin": null,
            "max_height": null,
            "max_width": null,
            "min_height": null,
            "min_width": null,
            "object_fit": null,
            "object_position": null,
            "order": null,
            "overflow": null,
            "overflow_x": null,
            "overflow_y": null,
            "padding": null,
            "right": null,
            "top": null,
            "visibility": null,
            "width": null
          }
        },
        "7f5b8762c8464bc8aa3872636601f50a": {
          "model_module": "@jupyter-widgets/controls",
          "model_name": "DescriptionStyleModel",
          "model_module_version": "1.5.0",
          "state": {
            "_model_module": "@jupyter-widgets/controls",
            "_model_module_version": "1.5.0",
            "_model_name": "DescriptionStyleModel",
            "_view_count": null,
            "_view_module": "@jupyter-widgets/base",
            "_view_module_version": "1.2.0",
            "_view_name": "StyleView",
            "description_width": ""
          }
        },
        "fb5b61377ea246aead13b079ac97f077": {
          "model_module": "@jupyter-widgets/base",
          "model_name": "LayoutModel",
          "model_module_version": "1.2.0",
          "state": {
            "_model_module": "@jupyter-widgets/base",
            "_model_module_version": "1.2.0",
            "_model_name": "LayoutModel",
            "_view_count": null,
            "_view_module": "@jupyter-widgets/base",
            "_view_module_version": "1.2.0",
            "_view_name": "LayoutView",
            "align_content": null,
            "align_items": null,
            "align_self": null,
            "border": null,
            "bottom": null,
            "display": null,
            "flex": null,
            "flex_flow": null,
            "grid_area": null,
            "grid_auto_columns": null,
            "grid_auto_flow": null,
            "grid_auto_rows": null,
            "grid_column": null,
            "grid_gap": null,
            "grid_row": null,
            "grid_template_areas": null,
            "grid_template_columns": null,
            "grid_template_rows": null,
            "height": null,
            "justify_content": null,
            "justify_items": null,
            "left": null,
            "margin": null,
            "max_height": null,
            "max_width": null,
            "min_height": null,
            "min_width": null,
            "object_fit": null,
            "object_position": null,
            "order": null,
            "overflow": null,
            "overflow_x": null,
            "overflow_y": null,
            "padding": null,
            "right": null,
            "top": null,
            "visibility": null,
            "width": null
          }
        }
      }
    }
  },
  "cells": [
    {
      "cell_type": "markdown",
      "metadata": {
        "id": "view-in-github",
        "colab_type": "text"
      },
      "source": [
        "<a href=\"https://colab.research.google.com/github/ronzus/HairClassifier/blob/main/HairClassifier.ipynb\" target=\"_parent\"><img src=\"https://colab.research.google.com/assets/colab-badge.svg\" alt=\"Open In Colab\"/></a>"
      ]
    },
    {
      "cell_type": "code",
      "execution_count": 1,
      "metadata": {
        "colab": {
          "base_uri": "https://localhost:8080/"
        },
        "id": "BxbUrAtU1S1u",
        "outputId": "6a035285-c8fb-43c5-8736-935bf11e20c2"
      },
      "outputs": [
        {
          "output_type": "stream",
          "name": "stdout",
          "text": [
            "\u001b[2K     \u001b[90m━━━━━━━━━━━━━━━━━━━━━━━━━━━━━━━━━━━━━━━━\u001b[0m \u001b[32m719.8/719.8 kB\u001b[0m \u001b[31m7.8 MB/s\u001b[0m eta \u001b[36m0:00:00\u001b[0m\n",
            "\u001b[2K     \u001b[90m━━━━━━━━━━━━━━━━━━━━━━━━━━━━━━━━━━━━━━━━\u001b[0m \u001b[32m7.9/7.9 MB\u001b[0m \u001b[31m40.0 MB/s\u001b[0m eta \u001b[36m0:00:00\u001b[0m\n",
            "\u001b[2K     \u001b[90m━━━━━━━━━━━━━━━━━━━━━━━━━━━━━━━━━━━━━━━━\u001b[0m \u001b[32m493.7/493.7 kB\u001b[0m \u001b[31m43.0 MB/s\u001b[0m eta \u001b[36m0:00:00\u001b[0m\n",
            "\u001b[2K     \u001b[90m━━━━━━━━━━━━━━━━━━━━━━━━━━━━━━━━━━━━━━━━\u001b[0m \u001b[32m1.3/1.3 MB\u001b[0m \u001b[31m77.7 MB/s\u001b[0m eta \u001b[36m0:00:00\u001b[0m\n",
            "\u001b[2K     \u001b[90m━━━━━━━━━━━━━━━━━━━━━━━━━━━━━━━━━━━━━━━━\u001b[0m \u001b[32m115.3/115.3 kB\u001b[0m \u001b[31m18.1 MB/s\u001b[0m eta \u001b[36m0:00:00\u001b[0m\n",
            "\u001b[2K     \u001b[90m━━━━━━━━━━━━━━━━━━━━━━━━━━━━━━━━━━━━━━━━\u001b[0m \u001b[32m134.8/134.8 kB\u001b[0m \u001b[31m19.0 MB/s\u001b[0m eta \u001b[36m0:00:00\u001b[0m\n",
            "\u001b[2K     \u001b[90m━━━━━━━━━━━━━━━━━━━━━━━━━━━━━━━━━━━━━━━━\u001b[0m \u001b[32m311.2/311.2 kB\u001b[0m \u001b[31m39.5 MB/s\u001b[0m eta \u001b[36m0:00:00\u001b[0m\n",
            "\u001b[2K     \u001b[90m━━━━━━━━━━━━━━━━━━━━━━━━━━━━━━━━━━━━━━━━\u001b[0m \u001b[32m3.8/3.8 MB\u001b[0m \u001b[31m40.7 MB/s\u001b[0m eta \u001b[36m0:00:00\u001b[0m\n",
            "\u001b[2K     \u001b[90m━━━━━━━━━━━━━━━━━━━━━━━━━━━━━━━━━━━━━━━━\u001b[0m \u001b[32m1.3/1.3 MB\u001b[0m \u001b[31m47.1 MB/s\u001b[0m eta \u001b[36m0:00:00\u001b[0m\n",
            "\u001b[2K     \u001b[90m━━━━━━━━━━━━━━━━━━━━━━━━━━━━━━━━━━━━━━━━\u001b[0m \u001b[32m1.6/1.6 MB\u001b[0m \u001b[31m49.7 MB/s\u001b[0m eta \u001b[36m0:00:00\u001b[0m\n",
            "\u001b[2K     \u001b[90m━━━━━━━━━━━━━━━━━━━━━━━━━━━━━━━━━━━━━━━━\u001b[0m \u001b[32m295.0/295.0 kB\u001b[0m \u001b[31m21.7 MB/s\u001b[0m eta \u001b[36m0:00:00\u001b[0m\n",
            "\u001b[?25hMounted at /content/gdrive\n"
          ]
        }
      ],
      "source": [
        "#hide\n",
        "! [ -e /content ] && pip install -Uqq fastbook\n",
        "import fastbook\n",
        "fastbook.setup_book()"
      ]
    },
    {
      "cell_type": "code",
      "source": [
        "#hide\n",
        "from fastbook import *\n",
        "from fastai.vision.widgets import *"
      ],
      "metadata": {
        "id": "lC55tGOV22Ww"
      },
      "execution_count": 27,
      "outputs": []
    },
    {
      "cell_type": "markdown",
      "source": [
        "So given a picture of hair ,we want to be able to say,\n",
        "is it straight or curly.\n"
      ],
      "metadata": {
        "id": "NwNmunye4Rrn"
      }
    },
    {
      "cell_type": "markdown",
      "source": [
        "How?\n",
        "We just need to do the following basic steps:\n",
        "\n",
        "1.Use Bing to search for images of \"curly hair photos\"\n",
        "\n",
        "2.Use Bing to search for images of \"straight hair photos\"\n",
        "\n",
        "3.Fine-tune a pretrained neural network to recognise these two groups\n",
        "\n",
        "4.Try running this model on a picture of a hair and see if it works"
      ],
      "metadata": {
        "id": "RuMjr3Fl3BTb"
      }
    },
    {
      "cell_type": "code",
      "source": [
        "#hide\n",
        "key = os.environ.get('BING_SEARCH_V7_SUBSCRIPTION_KEY', '307341939e014bb4b0d38781e1eaff1d')\n",
        "search_images_bing\n",
        "resultsCurly = search_images_bing(key, 'curly hair')\n",
        "resultsStraight = search_images_bing(key, 'straight hair')\n",
        "\n",
        "\n",
        "ims1 = resultsCurly.attrgot('contentUrl')\n",
        "ims2 = resultsStraight.attrgot('contentUrl')\n",
        "\n"
      ],
      "metadata": {
        "id": "rQeRW6zH6LnG"
      },
      "execution_count": 8,
      "outputs": []
    },
    {
      "cell_type": "code",
      "source": [
        "#hide\n",
        "hair_types = 'curly','straight'\n",
        "path = Path('hair')\n",
        "\n",
        "remove\n",
        "if not path.exists():\n",
        "    path.mkdir()\n",
        "    for o in hair_types:\n",
        "        dest = (path/o)\n",
        "        dest.mkdir(exist_ok=True)\n",
        "        results = search_images_bing(key, f'{o} hair')\n",
        "        download_images(dest, urls=results.attrgot('contentUrl'))"
      ],
      "metadata": {
        "id": "JvA3dpzd-TGx"
      },
      "execution_count": 9,
      "outputs": []
    },
    {
      "cell_type": "code",
      "source": [
        "#hide\n",
        "fns = get_image_files(path)\n",
        "failed = verify_images(fns)\n",
        "failed.map(Path.unlink);"
      ],
      "metadata": {
        "id": "ZxSt0wfz-V5Z"
      },
      "execution_count": 10,
      "outputs": []
    },
    {
      "cell_type": "code",
      "source": [
        "#hide\n",
        "dls = DataBlock(\n",
        "    blocks=(ImageBlock, CategoryBlock),\n",
        "    get_items=get_image_files,\n",
        "    splitter=RandomSplitter(valid_pct=0.2, seed=42),\n",
        "    get_y=parent_label,\n",
        "    item_tfms=[Resize(192, method='squish')]\n",
        ").dataloaders(path)\n"
      ],
      "metadata": {
        "id": "MG9-_h_w-4LU"
      },
      "execution_count": 17,
      "outputs": []
    },
    {
      "cell_type": "code",
      "source": [
        "learn = vision_learner(dls, resnet18, metrics=error_rate)\n",
        "learn.fine_tune(30)"
      ],
      "metadata": {
        "colab": {
          "base_uri": "https://localhost:8080/",
          "height": 1000
        },
        "id": "3yg5fZoJCFlY",
        "outputId": "ab00b3d5-63aa-49fb-b783-5f075b4cfc36"
      },
      "execution_count": 18,
      "outputs": [
        {
          "output_type": "stream",
          "name": "stderr",
          "text": [
            "Downloading: \"https://download.pytorch.org/models/resnet18-f37072fd.pth\" to /root/.cache/torch/hub/checkpoints/resnet18-f37072fd.pth\n",
            "100%|██████████| 44.7M/44.7M [00:00<00:00, 167MB/s]\n"
          ]
        },
        {
          "output_type": "display_data",
          "data": {
            "text/plain": [
              "<IPython.core.display.HTML object>"
            ],
            "text/html": [
              "\n",
              "<style>\n",
              "    /* Turns off some styling */\n",
              "    progress {\n",
              "        /* gets rid of default border in Firefox and Opera. */\n",
              "        border: none;\n",
              "        /* Needs to be in here for Safari polyfill so background images work as expected. */\n",
              "        background-size: auto;\n",
              "    }\n",
              "    progress:not([value]), progress:not([value])::-webkit-progress-bar {\n",
              "        background: repeating-linear-gradient(45deg, #7e7e7e, #7e7e7e 10px, #5c5c5c 10px, #5c5c5c 20px);\n",
              "    }\n",
              "    .progress-bar-interrupted, .progress-bar-interrupted::-webkit-progress-bar {\n",
              "        background: #F44336;\n",
              "    }\n",
              "</style>\n"
            ]
          },
          "metadata": {}
        },
        {
          "output_type": "display_data",
          "data": {
            "text/plain": [
              "<IPython.core.display.HTML object>"
            ],
            "text/html": [
              "<table border=\"1\" class=\"dataframe\">\n",
              "  <thead>\n",
              "    <tr style=\"text-align: left;\">\n",
              "      <th>epoch</th>\n",
              "      <th>train_loss</th>\n",
              "      <th>valid_loss</th>\n",
              "      <th>error_rate</th>\n",
              "      <th>time</th>\n",
              "    </tr>\n",
              "  </thead>\n",
              "  <tbody>\n",
              "    <tr>\n",
              "      <td>0</td>\n",
              "      <td>1.111123</td>\n",
              "      <td>1.677326</td>\n",
              "      <td>0.381818</td>\n",
              "      <td>00:17</td>\n",
              "    </tr>\n",
              "  </tbody>\n",
              "</table>"
            ]
          },
          "metadata": {}
        },
        {
          "output_type": "display_data",
          "data": {
            "text/plain": [
              "<IPython.core.display.HTML object>"
            ],
            "text/html": [
              "\n",
              "<style>\n",
              "    /* Turns off some styling */\n",
              "    progress {\n",
              "        /* gets rid of default border in Firefox and Opera. */\n",
              "        border: none;\n",
              "        /* Needs to be in here for Safari polyfill so background images work as expected. */\n",
              "        background-size: auto;\n",
              "    }\n",
              "    progress:not([value]), progress:not([value])::-webkit-progress-bar {\n",
              "        background: repeating-linear-gradient(45deg, #7e7e7e, #7e7e7e 10px, #5c5c5c 10px, #5c5c5c 20px);\n",
              "    }\n",
              "    .progress-bar-interrupted, .progress-bar-interrupted::-webkit-progress-bar {\n",
              "        background: #F44336;\n",
              "    }\n",
              "</style>\n"
            ]
          },
          "metadata": {}
        },
        {
          "output_type": "display_data",
          "data": {
            "text/plain": [
              "<IPython.core.display.HTML object>"
            ],
            "text/html": [
              "<table border=\"1\" class=\"dataframe\">\n",
              "  <thead>\n",
              "    <tr style=\"text-align: left;\">\n",
              "      <th>epoch</th>\n",
              "      <th>train_loss</th>\n",
              "      <th>valid_loss</th>\n",
              "      <th>error_rate</th>\n",
              "      <th>time</th>\n",
              "    </tr>\n",
              "  </thead>\n",
              "  <tbody>\n",
              "    <tr>\n",
              "      <td>0</td>\n",
              "      <td>0.367209</td>\n",
              "      <td>0.893880</td>\n",
              "      <td>0.327273</td>\n",
              "      <td>00:11</td>\n",
              "    </tr>\n",
              "    <tr>\n",
              "      <td>1</td>\n",
              "      <td>0.321019</td>\n",
              "      <td>0.453209</td>\n",
              "      <td>0.163636</td>\n",
              "      <td>00:11</td>\n",
              "    </tr>\n",
              "    <tr>\n",
              "      <td>2</td>\n",
              "      <td>0.255272</td>\n",
              "      <td>0.217990</td>\n",
              "      <td>0.090909</td>\n",
              "      <td>00:13</td>\n",
              "    </tr>\n",
              "    <tr>\n",
              "      <td>3</td>\n",
              "      <td>0.204087</td>\n",
              "      <td>0.121599</td>\n",
              "      <td>0.036364</td>\n",
              "      <td>00:11</td>\n",
              "    </tr>\n",
              "    <tr>\n",
              "      <td>4</td>\n",
              "      <td>0.166342</td>\n",
              "      <td>0.088097</td>\n",
              "      <td>0.054545</td>\n",
              "      <td>00:12</td>\n",
              "    </tr>\n",
              "    <tr>\n",
              "      <td>5</td>\n",
              "      <td>0.136777</td>\n",
              "      <td>0.097771</td>\n",
              "      <td>0.036364</td>\n",
              "      <td>00:13</td>\n",
              "    </tr>\n",
              "    <tr>\n",
              "      <td>6</td>\n",
              "      <td>0.114151</td>\n",
              "      <td>0.123025</td>\n",
              "      <td>0.054545</td>\n",
              "      <td>00:09</td>\n",
              "    </tr>\n",
              "    <tr>\n",
              "      <td>7</td>\n",
              "      <td>0.098552</td>\n",
              "      <td>0.155103</td>\n",
              "      <td>0.054545</td>\n",
              "      <td>00:13</td>\n",
              "    </tr>\n",
              "    <tr>\n",
              "      <td>8</td>\n",
              "      <td>0.085627</td>\n",
              "      <td>0.184818</td>\n",
              "      <td>0.054545</td>\n",
              "      <td>00:11</td>\n",
              "    </tr>\n",
              "    <tr>\n",
              "      <td>9</td>\n",
              "      <td>0.076648</td>\n",
              "      <td>0.199692</td>\n",
              "      <td>0.054545</td>\n",
              "      <td>00:10</td>\n",
              "    </tr>\n",
              "    <tr>\n",
              "      <td>10</td>\n",
              "      <td>0.067617</td>\n",
              "      <td>0.231841</td>\n",
              "      <td>0.054545</td>\n",
              "      <td>00:13</td>\n",
              "    </tr>\n",
              "    <tr>\n",
              "      <td>11</td>\n",
              "      <td>0.059969</td>\n",
              "      <td>0.241698</td>\n",
              "      <td>0.054545</td>\n",
              "      <td>00:09</td>\n",
              "    </tr>\n",
              "    <tr>\n",
              "      <td>12</td>\n",
              "      <td>0.053920</td>\n",
              "      <td>0.247838</td>\n",
              "      <td>0.054545</td>\n",
              "      <td>00:13</td>\n",
              "    </tr>\n",
              "    <tr>\n",
              "      <td>13</td>\n",
              "      <td>0.048485</td>\n",
              "      <td>0.253168</td>\n",
              "      <td>0.054545</td>\n",
              "      <td>00:12</td>\n",
              "    </tr>\n",
              "    <tr>\n",
              "      <td>14</td>\n",
              "      <td>0.043747</td>\n",
              "      <td>0.257614</td>\n",
              "      <td>0.054545</td>\n",
              "      <td>00:10</td>\n",
              "    </tr>\n",
              "    <tr>\n",
              "      <td>15</td>\n",
              "      <td>0.039620</td>\n",
              "      <td>0.261458</td>\n",
              "      <td>0.054545</td>\n",
              "      <td>00:13</td>\n",
              "    </tr>\n",
              "    <tr>\n",
              "      <td>16</td>\n",
              "      <td>0.036006</td>\n",
              "      <td>0.251313</td>\n",
              "      <td>0.054545</td>\n",
              "      <td>00:10</td>\n",
              "    </tr>\n",
              "    <tr>\n",
              "      <td>17</td>\n",
              "      <td>0.033018</td>\n",
              "      <td>0.260952</td>\n",
              "      <td>0.054545</td>\n",
              "      <td>00:12</td>\n",
              "    </tr>\n",
              "    <tr>\n",
              "      <td>18</td>\n",
              "      <td>0.030221</td>\n",
              "      <td>0.260594</td>\n",
              "      <td>0.054545</td>\n",
              "      <td>00:13</td>\n",
              "    </tr>\n",
              "    <tr>\n",
              "      <td>19</td>\n",
              "      <td>0.027739</td>\n",
              "      <td>0.264067</td>\n",
              "      <td>0.054545</td>\n",
              "      <td>00:09</td>\n",
              "    </tr>\n",
              "    <tr>\n",
              "      <td>20</td>\n",
              "      <td>0.025493</td>\n",
              "      <td>0.264774</td>\n",
              "      <td>0.054545</td>\n",
              "      <td>00:14</td>\n",
              "    </tr>\n",
              "    <tr>\n",
              "      <td>21</td>\n",
              "      <td>0.023469</td>\n",
              "      <td>0.258884</td>\n",
              "      <td>0.054545</td>\n",
              "      <td>00:15</td>\n",
              "    </tr>\n",
              "    <tr>\n",
              "      <td>22</td>\n",
              "      <td>0.021714</td>\n",
              "      <td>0.252979</td>\n",
              "      <td>0.054545</td>\n",
              "      <td>00:10</td>\n",
              "    </tr>\n",
              "    <tr>\n",
              "      <td>23</td>\n",
              "      <td>0.020094</td>\n",
              "      <td>0.251616</td>\n",
              "      <td>0.054545</td>\n",
              "      <td>00:16</td>\n",
              "    </tr>\n",
              "    <tr>\n",
              "      <td>24</td>\n",
              "      <td>0.018593</td>\n",
              "      <td>0.250099</td>\n",
              "      <td>0.054545</td>\n",
              "      <td>00:13</td>\n",
              "    </tr>\n",
              "    <tr>\n",
              "      <td>25</td>\n",
              "      <td>0.017241</td>\n",
              "      <td>0.247084</td>\n",
              "      <td>0.054545</td>\n",
              "      <td>00:10</td>\n",
              "    </tr>\n",
              "    <tr>\n",
              "      <td>26</td>\n",
              "      <td>0.016005</td>\n",
              "      <td>0.253870</td>\n",
              "      <td>0.054545</td>\n",
              "      <td>00:13</td>\n",
              "    </tr>\n",
              "    <tr>\n",
              "      <td>27</td>\n",
              "      <td>0.014898</td>\n",
              "      <td>0.255951</td>\n",
              "      <td>0.054545</td>\n",
              "      <td>00:13</td>\n",
              "    </tr>\n",
              "    <tr>\n",
              "      <td>28</td>\n",
              "      <td>0.014182</td>\n",
              "      <td>0.258839</td>\n",
              "      <td>0.054545</td>\n",
              "      <td>00:09</td>\n",
              "    </tr>\n",
              "    <tr>\n",
              "      <td>29</td>\n",
              "      <td>0.013215</td>\n",
              "      <td>0.245721</td>\n",
              "      <td>0.054545</td>\n",
              "      <td>00:14</td>\n",
              "    </tr>\n",
              "  </tbody>\n",
              "</table>"
            ]
          },
          "metadata": {}
        }
      ]
    },
    {
      "cell_type": "code",
      "source": [
        "learn.export()\n",
        "path = Path()\n",
        "path.ls(file_exts='.pkl')\n",
        "learn_inf = load_learner(path/'export.pkl')"
      ],
      "metadata": {
        "id": "fhNA2PorEsMU"
      },
      "execution_count": 23,
      "outputs": []
    },
    {
      "cell_type": "code",
      "source": [
        "#hide\n",
        "#hide_output\n",
        "btn_upload = widgets.FileUpload()\n",
        "out_pl = widgets.Output()\n",
        "lbl_pred = widgets.Label()\n",
        "btn_run = widgets.Button(description='Classify')\n",
        "\n"
      ],
      "metadata": {
        "id": "8gMF0FvJDM9V"
      },
      "execution_count": 24,
      "outputs": []
    },
    {
      "cell_type": "code",
      "source": [
        "def on_click_classify(change):\n",
        "    img = PILImage.create(btn_upload.data[-1])\n",
        "    out_pl.clear_output()\n",
        "    with out_pl: display(img.to_thumb(128,128))\n",
        "    pred,pred_idx,probs = learn_inf.predict(img)\n",
        "    lbl_pred.value = f'Prediction: {pred}; Probability: {probs[pred_idx]:.04f}'\n",
        "\n",
        "btn_run.on_click(on_click_classify)"
      ],
      "metadata": {
        "id": "MURdvW3pFD9p"
      },
      "execution_count": 25,
      "outputs": []
    },
    {
      "cell_type": "code",
      "source": [
        "#hide_output\n",
        "VBox([widgets.Label('Select your hair!'),\n",
        "      btn_upload, btn_run, out_pl, lbl_pred])"
      ],
      "metadata": {
        "colab": {
          "base_uri": "https://localhost:8080/",
          "height": 273,
          "referenced_widgets": [
            "39a619b0bd884c2e8e3c35c2eef1c086",
            "3914ff1e22f84d708bccfa4956822a92",
            "54196ca0a6cf4af6be1006dd61b9a5f4",
            "29bf848f6d3a4a73be739994dfa86638",
            "263e4cd689084ce5b9826a3106010d79",
            "0a94891a505541489e2e80d36bcc3b0e",
            "bdcd0b94f72a4db9a70101ccc224b2e5",
            "47fb00e609aa48ab9e38ca9aadefcfab",
            "4b2e109b737448dbbda094a7562e1000",
            "f5f28d70b7644ec7ac3c9bdb8a3dc313",
            "7c849955e7894c93a47ed98659202f13",
            "85f0e66d2d934990b389f8dcf8382ed3",
            "53406e8695a74b139d5cbf8ae2eec620",
            "37938d5dba5e48d9a01b26359e40593c",
            "7f5b8762c8464bc8aa3872636601f50a",
            "fb5b61377ea246aead13b079ac97f077"
          ]
        },
        "id": "-JUaA3DHFEuG",
        "outputId": "83d08f05-63c4-4aee-b63c-aba6aa9c4141"
      },
      "execution_count": 28,
      "outputs": [
        {
          "output_type": "display_data",
          "data": {
            "text/plain": [
              "VBox(children=(Label(value='Select your hair!'), FileUpload(value={}, description='Upload'), Button(descriptio…"
            ],
            "application/vnd.jupyter.widget-view+json": {
              "version_major": 2,
              "version_minor": 0,
              "model_id": "39a619b0bd884c2e8e3c35c2eef1c086"
            }
          },
          "metadata": {}
        },
        {
          "output_type": "display_data",
          "data": {
            "text/plain": [
              "<IPython.core.display.HTML object>"
            ],
            "text/html": [
              "\n",
              "<style>\n",
              "    /* Turns off some styling */\n",
              "    progress {\n",
              "        /* gets rid of default border in Firefox and Opera. */\n",
              "        border: none;\n",
              "        /* Needs to be in here for Safari polyfill so background images work as expected. */\n",
              "        background-size: auto;\n",
              "    }\n",
              "    progress:not([value]), progress:not([value])::-webkit-progress-bar {\n",
              "        background: repeating-linear-gradient(45deg, #7e7e7e, #7e7e7e 10px, #5c5c5c 10px, #5c5c5c 20px);\n",
              "    }\n",
              "    .progress-bar-interrupted, .progress-bar-interrupted::-webkit-progress-bar {\n",
              "        background: #F44336;\n",
              "    }\n",
              "</style>\n"
            ]
          },
          "metadata": {}
        },
        {
          "output_type": "display_data",
          "data": {
            "text/plain": [
              "<IPython.core.display.HTML object>"
            ],
            "text/html": []
          },
          "metadata": {}
        }
      ]
    }
  ]
}